{
 "cells": [
  {
   "cell_type": "markdown",
   "id": "33ad0ad7",
   "metadata": {},
   "source": [
    "# SP Assignment : 20bee094, 20bee007,20bee076,20bee129"
   ]
  },
  {
   "cell_type": "markdown",
   "id": "ca004603",
   "metadata": {},
   "source": [
    "### Part 1 : Data Analysis with Pandas\n",
    "### Part 2 : Machine Learning model to predict the price of the car"
   ]
  },
  {
   "cell_type": "markdown",
   "id": "967c63ef",
   "metadata": {},
   "source": [
    "### 1. Importing Library and loading file"
   ]
  },
  {
   "cell_type": "code",
   "execution_count": 1,
   "id": "32298e43",
   "metadata": {},
   "outputs": [],
   "source": [
    "import numpy as np\n",
    "import pandas as pd\n",
    "import matplotlib.pyplot as plt"
   ]
  },
  {
   "cell_type": "code",
   "execution_count": 2,
   "id": "8d044979",
   "metadata": {},
   "outputs": [],
   "source": [
    "df = pd.read_csv(\"dataset.csv\")"
   ]
  },
  {
   "cell_type": "code",
   "execution_count": 3,
   "id": "e62ff592",
   "metadata": {},
   "outputs": [
    {
     "data": {
      "text/plain": [
       "pandas.core.frame.DataFrame"
      ]
     },
     "execution_count": 3,
     "metadata": {},
     "output_type": "execute_result"
    }
   ],
   "source": [
    "type(df)"
   ]
  },
  {
   "cell_type": "code",
   "execution_count": 4,
   "id": "9ac7a6fc",
   "metadata": {
    "scrolled": true
   },
   "outputs": [
    {
     "data": {
      "text/html": [
       "<div>\n",
       "<style scoped>\n",
       "    .dataframe tbody tr th:only-of-type {\n",
       "        vertical-align: middle;\n",
       "    }\n",
       "\n",
       "    .dataframe tbody tr th {\n",
       "        vertical-align: top;\n",
       "    }\n",
       "\n",
       "    .dataframe thead th {\n",
       "        text-align: right;\n",
       "    }\n",
       "</style>\n",
       "<table border=\"1\" class=\"dataframe\">\n",
       "  <thead>\n",
       "    <tr style=\"text-align: right;\">\n",
       "      <th></th>\n",
       "      <th>Brand</th>\n",
       "      <th>Price($)</th>\n",
       "      <th>Body</th>\n",
       "      <th>Mileage</th>\n",
       "      <th>EngineV</th>\n",
       "      <th>Engine Type</th>\n",
       "      <th>Registration</th>\n",
       "      <th>Year</th>\n",
       "      <th>Model</th>\n",
       "    </tr>\n",
       "  </thead>\n",
       "  <tbody>\n",
       "    <tr>\n",
       "      <th>0</th>\n",
       "      <td>BMW</td>\n",
       "      <td>4200.0</td>\n",
       "      <td>sedan</td>\n",
       "      <td>277</td>\n",
       "      <td>2.0</td>\n",
       "      <td>Petrol</td>\n",
       "      <td>yes</td>\n",
       "      <td>1991</td>\n",
       "      <td>320</td>\n",
       "    </tr>\n",
       "    <tr>\n",
       "      <th>1</th>\n",
       "      <td>Mercedes-Benz</td>\n",
       "      <td>7900.0</td>\n",
       "      <td>van</td>\n",
       "      <td>427</td>\n",
       "      <td>2.9</td>\n",
       "      <td>Diesel</td>\n",
       "      <td>yes</td>\n",
       "      <td>1999</td>\n",
       "      <td>Sprinter 212</td>\n",
       "    </tr>\n",
       "    <tr>\n",
       "      <th>2</th>\n",
       "      <td>Mercedes-Benz</td>\n",
       "      <td>13300.0</td>\n",
       "      <td>sedan</td>\n",
       "      <td>358</td>\n",
       "      <td>5.0</td>\n",
       "      <td>Gas</td>\n",
       "      <td>yes</td>\n",
       "      <td>2003</td>\n",
       "      <td>S 500</td>\n",
       "    </tr>\n",
       "    <tr>\n",
       "      <th>3</th>\n",
       "      <td>Audi</td>\n",
       "      <td>23000.0</td>\n",
       "      <td>crossover</td>\n",
       "      <td>240</td>\n",
       "      <td>4.2</td>\n",
       "      <td>Petrol</td>\n",
       "      <td>yes</td>\n",
       "      <td>2007</td>\n",
       "      <td>Q7</td>\n",
       "    </tr>\n",
       "    <tr>\n",
       "      <th>4</th>\n",
       "      <td>Toyota</td>\n",
       "      <td>18300.0</td>\n",
       "      <td>crossover</td>\n",
       "      <td>120</td>\n",
       "      <td>2.0</td>\n",
       "      <td>Petrol</td>\n",
       "      <td>yes</td>\n",
       "      <td>2011</td>\n",
       "      <td>Rav 4</td>\n",
       "    </tr>\n",
       "  </tbody>\n",
       "</table>\n",
       "</div>"
      ],
      "text/plain": [
       "           Brand  Price($)       Body  Mileage  EngineV Engine Type  \\\n",
       "0            BMW    4200.0      sedan      277      2.0      Petrol   \n",
       "1  Mercedes-Benz    7900.0        van      427      2.9      Diesel   \n",
       "2  Mercedes-Benz   13300.0      sedan      358      5.0         Gas   \n",
       "3           Audi   23000.0  crossover      240      4.2      Petrol   \n",
       "4         Toyota   18300.0  crossover      120      2.0      Petrol   \n",
       "\n",
       "  Registration  Year         Model  \n",
       "0          yes  1991           320  \n",
       "1          yes  1999  Sprinter 212  \n",
       "2          yes  2003         S 500  \n",
       "3          yes  2007            Q7  \n",
       "4          yes  2011         Rav 4  "
      ]
     },
     "execution_count": 4,
     "metadata": {},
     "output_type": "execute_result"
    }
   ],
   "source": [
    "df.head()"
   ]
  },
  {
   "cell_type": "code",
   "execution_count": 5,
   "id": "8afc61d2",
   "metadata": {},
   "outputs": [
    {
     "data": {
      "text/html": [
       "<div>\n",
       "<style scoped>\n",
       "    .dataframe tbody tr th:only-of-type {\n",
       "        vertical-align: middle;\n",
       "    }\n",
       "\n",
       "    .dataframe tbody tr th {\n",
       "        vertical-align: top;\n",
       "    }\n",
       "\n",
       "    .dataframe thead th {\n",
       "        text-align: right;\n",
       "    }\n",
       "</style>\n",
       "<table border=\"1\" class=\"dataframe\">\n",
       "  <thead>\n",
       "    <tr style=\"text-align: right;\">\n",
       "      <th></th>\n",
       "      <th>Brand</th>\n",
       "      <th>Price($)</th>\n",
       "      <th>Body</th>\n",
       "      <th>Mileage</th>\n",
       "      <th>EngineV</th>\n",
       "      <th>Engine Type</th>\n",
       "      <th>Registration</th>\n",
       "      <th>Year</th>\n",
       "      <th>Model</th>\n",
       "    </tr>\n",
       "  </thead>\n",
       "  <tbody>\n",
       "    <tr>\n",
       "      <th>495</th>\n",
       "      <td>Mitsubishi</td>\n",
       "      <td>8000.0</td>\n",
       "      <td>sedan</td>\n",
       "      <td>145</td>\n",
       "      <td>2.0</td>\n",
       "      <td>Gas</td>\n",
       "      <td>yes</td>\n",
       "      <td>2007</td>\n",
       "      <td>Lancer</td>\n",
       "    </tr>\n",
       "    <tr>\n",
       "      <th>496</th>\n",
       "      <td>Renault</td>\n",
       "      <td>6600.0</td>\n",
       "      <td>van</td>\n",
       "      <td>184</td>\n",
       "      <td>1.5</td>\n",
       "      <td>Diesel</td>\n",
       "      <td>yes</td>\n",
       "      <td>2012</td>\n",
       "      <td>Kangoo</td>\n",
       "    </tr>\n",
       "    <tr>\n",
       "      <th>497</th>\n",
       "      <td>Mercedes-Benz</td>\n",
       "      <td>22500.0</td>\n",
       "      <td>sedan</td>\n",
       "      <td>164</td>\n",
       "      <td>1.8</td>\n",
       "      <td>Gas</td>\n",
       "      <td>yes</td>\n",
       "      <td>2012</td>\n",
       "      <td>E-Class</td>\n",
       "    </tr>\n",
       "    <tr>\n",
       "      <th>498</th>\n",
       "      <td>Mercedes-Benz</td>\n",
       "      <td>13200.0</td>\n",
       "      <td>other</td>\n",
       "      <td>196</td>\n",
       "      <td>2.2</td>\n",
       "      <td>Other</td>\n",
       "      <td>yes</td>\n",
       "      <td>2012</td>\n",
       "      <td>Sprinter 313</td>\n",
       "    </tr>\n",
       "    <tr>\n",
       "      <th>499</th>\n",
       "      <td>Volkswagen</td>\n",
       "      <td>1200.0</td>\n",
       "      <td>other</td>\n",
       "      <td>300</td>\n",
       "      <td>1.4</td>\n",
       "      <td>Gas</td>\n",
       "      <td>yes</td>\n",
       "      <td>2000</td>\n",
       "      <td>Caddy</td>\n",
       "    </tr>\n",
       "  </tbody>\n",
       "</table>\n",
       "</div>"
      ],
      "text/plain": [
       "             Brand  Price($)   Body  Mileage  EngineV Engine Type  \\\n",
       "495     Mitsubishi    8000.0  sedan      145      2.0         Gas   \n",
       "496        Renault    6600.0    van      184      1.5      Diesel   \n",
       "497  Mercedes-Benz   22500.0  sedan      164      1.8         Gas   \n",
       "498  Mercedes-Benz   13200.0  other      196      2.2       Other   \n",
       "499     Volkswagen    1200.0  other      300      1.4         Gas   \n",
       "\n",
       "    Registration  Year         Model  \n",
       "495          yes  2007        Lancer  \n",
       "496          yes  2012        Kangoo  \n",
       "497          yes  2012       E-Class  \n",
       "498          yes  2012  Sprinter 313  \n",
       "499          yes  2000         Caddy  "
      ]
     },
     "execution_count": 5,
     "metadata": {},
     "output_type": "execute_result"
    }
   ],
   "source": [
    "df.tail()"
   ]
  },
  {
   "cell_type": "code",
   "execution_count": 6,
   "id": "8efcf647",
   "metadata": {},
   "outputs": [
    {
     "data": {
      "text/plain": [
       "(500, 9)"
      ]
     },
     "execution_count": 6,
     "metadata": {},
     "output_type": "execute_result"
    }
   ],
   "source": [
    "df.shape"
   ]
  },
  {
   "cell_type": "code",
   "execution_count": 7,
   "id": "b9bbb072",
   "metadata": {},
   "outputs": [
    {
     "name": "stdout",
     "output_type": "stream",
     "text": [
      "<class 'pandas.core.frame.DataFrame'>\n",
      "RangeIndex: 500 entries, 0 to 499\n",
      "Data columns (total 9 columns):\n",
      " #   Column        Non-Null Count  Dtype  \n",
      "---  ------        --------------  -----  \n",
      " 0   Brand         500 non-null    object \n",
      " 1   Price($)      481 non-null    float64\n",
      " 2   Body          500 non-null    object \n",
      " 3   Mileage       500 non-null    int64  \n",
      " 4   EngineV       482 non-null    float64\n",
      " 5   Engine Type   500 non-null    object \n",
      " 6   Registration  500 non-null    object \n",
      " 7   Year          500 non-null    int64  \n",
      " 8   Model         500 non-null    object \n",
      "dtypes: float64(2), int64(2), object(5)\n",
      "memory usage: 35.3+ KB\n"
     ]
    }
   ],
   "source": [
    "df.info()"
   ]
  },
  {
   "cell_type": "code",
   "execution_count": 8,
   "id": "272a1110",
   "metadata": {},
   "outputs": [
    {
     "data": {
      "text/html": [
       "<div>\n",
       "<style scoped>\n",
       "    .dataframe tbody tr th:only-of-type {\n",
       "        vertical-align: middle;\n",
       "    }\n",
       "\n",
       "    .dataframe tbody tr th {\n",
       "        vertical-align: top;\n",
       "    }\n",
       "\n",
       "    .dataframe thead th {\n",
       "        text-align: right;\n",
       "    }\n",
       "</style>\n",
       "<table border=\"1\" class=\"dataframe\">\n",
       "  <thead>\n",
       "    <tr style=\"text-align: right;\">\n",
       "      <th></th>\n",
       "      <th>Price($)</th>\n",
       "      <th>Mileage</th>\n",
       "      <th>EngineV</th>\n",
       "      <th>Year</th>\n",
       "    </tr>\n",
       "  </thead>\n",
       "  <tbody>\n",
       "    <tr>\n",
       "      <th>count</th>\n",
       "      <td>481.000000</td>\n",
       "      <td>500.000000</td>\n",
       "      <td>482.000000</td>\n",
       "      <td>500.000000</td>\n",
       "    </tr>\n",
       "    <tr>\n",
       "      <th>mean</th>\n",
       "      <td>18433.100042</td>\n",
       "      <td>162.694000</td>\n",
       "      <td>2.660892</td>\n",
       "      <td>2006.404000</td>\n",
       "    </tr>\n",
       "    <tr>\n",
       "      <th>std</th>\n",
       "      <td>25143.485744</td>\n",
       "      <td>101.243453</td>\n",
       "      <td>4.549634</td>\n",
       "      <td>6.571999</td>\n",
       "    </tr>\n",
       "    <tr>\n",
       "      <th>min</th>\n",
       "      <td>600.000000</td>\n",
       "      <td>0.000000</td>\n",
       "      <td>0.650000</td>\n",
       "      <td>1979.000000</td>\n",
       "    </tr>\n",
       "    <tr>\n",
       "      <th>25%</th>\n",
       "      <td>7100.000000</td>\n",
       "      <td>90.750000</td>\n",
       "      <td>1.800000</td>\n",
       "      <td>2003.000000</td>\n",
       "    </tr>\n",
       "    <tr>\n",
       "      <th>50%</th>\n",
       "      <td>10900.000000</td>\n",
       "      <td>164.000000</td>\n",
       "      <td>2.200000</td>\n",
       "      <td>2007.000000</td>\n",
       "    </tr>\n",
       "    <tr>\n",
       "      <th>75%</th>\n",
       "      <td>19600.000000</td>\n",
       "      <td>230.000000</td>\n",
       "      <td>3.000000</td>\n",
       "      <td>2011.000000</td>\n",
       "    </tr>\n",
       "    <tr>\n",
       "      <th>max</th>\n",
       "      <td>199999.000000</td>\n",
       "      <td>488.000000</td>\n",
       "      <td>99.990000</td>\n",
       "      <td>2016.000000</td>\n",
       "    </tr>\n",
       "  </tbody>\n",
       "</table>\n",
       "</div>"
      ],
      "text/plain": [
       "            Price($)     Mileage     EngineV         Year\n",
       "count     481.000000  500.000000  482.000000   500.000000\n",
       "mean    18433.100042  162.694000    2.660892  2006.404000\n",
       "std     25143.485744  101.243453    4.549634     6.571999\n",
       "min       600.000000    0.000000    0.650000  1979.000000\n",
       "25%      7100.000000   90.750000    1.800000  2003.000000\n",
       "50%     10900.000000  164.000000    2.200000  2007.000000\n",
       "75%     19600.000000  230.000000    3.000000  2011.000000\n",
       "max    199999.000000  488.000000   99.990000  2016.000000"
      ]
     },
     "execution_count": 8,
     "metadata": {},
     "output_type": "execute_result"
    }
   ],
   "source": [
    "df.describe()"
   ]
  },
  {
   "cell_type": "markdown",
   "id": "96a11e7d",
   "metadata": {},
   "source": [
    "### 2. Manipulating data using different feature of Pandas"
   ]
  },
  {
   "cell_type": "code",
   "execution_count": 9,
   "id": "7cda33c0",
   "metadata": {},
   "outputs": [
    {
     "data": {
      "text/html": [
       "<div>\n",
       "<style scoped>\n",
       "    .dataframe tbody tr th:only-of-type {\n",
       "        vertical-align: middle;\n",
       "    }\n",
       "\n",
       "    .dataframe tbody tr th {\n",
       "        vertical-align: top;\n",
       "    }\n",
       "\n",
       "    .dataframe thead th {\n",
       "        text-align: right;\n",
       "    }\n",
       "</style>\n",
       "<table border=\"1\" class=\"dataframe\">\n",
       "  <thead>\n",
       "    <tr style=\"text-align: right;\">\n",
       "      <th></th>\n",
       "      <th>Brand</th>\n",
       "      <th>Price($)</th>\n",
       "      <th>Body</th>\n",
       "      <th>Mileage</th>\n",
       "      <th>EngineV</th>\n",
       "      <th>Engine Type</th>\n",
       "      <th>Registration</th>\n",
       "      <th>Year</th>\n",
       "      <th>Model</th>\n",
       "    </tr>\n",
       "  </thead>\n",
       "  <tbody>\n",
       "    <tr>\n",
       "      <th>362</th>\n",
       "      <td>Volkswagen</td>\n",
       "      <td>55500.0</td>\n",
       "      <td>crossover</td>\n",
       "      <td>47</td>\n",
       "      <td>3.0</td>\n",
       "      <td>Diesel</td>\n",
       "      <td>yes</td>\n",
       "      <td>2016</td>\n",
       "      <td>Touareg</td>\n",
       "    </tr>\n",
       "    <tr>\n",
       "      <th>30</th>\n",
       "      <td>Audi</td>\n",
       "      <td>2900.0</td>\n",
       "      <td>sedan</td>\n",
       "      <td>1</td>\n",
       "      <td>2.3</td>\n",
       "      <td>Gas</td>\n",
       "      <td>yes</td>\n",
       "      <td>1989</td>\n",
       "      <td>100</td>\n",
       "    </tr>\n",
       "    <tr>\n",
       "      <th>64</th>\n",
       "      <td>Mercedes-Benz</td>\n",
       "      <td>50000.0</td>\n",
       "      <td>sedan</td>\n",
       "      <td>240</td>\n",
       "      <td>3.5</td>\n",
       "      <td>Petrol</td>\n",
       "      <td>yes</td>\n",
       "      <td>2006</td>\n",
       "      <td>S 350</td>\n",
       "    </tr>\n",
       "    <tr>\n",
       "      <th>144</th>\n",
       "      <td>Toyota</td>\n",
       "      <td>26900.0</td>\n",
       "      <td>crossover</td>\n",
       "      <td>119</td>\n",
       "      <td>4.0</td>\n",
       "      <td>Gas</td>\n",
       "      <td>yes</td>\n",
       "      <td>2008</td>\n",
       "      <td>Land Cruiser Prado</td>\n",
       "    </tr>\n",
       "    <tr>\n",
       "      <th>151</th>\n",
       "      <td>BMW</td>\n",
       "      <td>18100.0</td>\n",
       "      <td>crossover</td>\n",
       "      <td>200</td>\n",
       "      <td>4.8</td>\n",
       "      <td>Petrol</td>\n",
       "      <td>yes</td>\n",
       "      <td>2005</td>\n",
       "      <td>X5</td>\n",
       "    </tr>\n",
       "  </tbody>\n",
       "</table>\n",
       "</div>"
      ],
      "text/plain": [
       "             Brand  Price($)       Body  Mileage  EngineV Engine Type  \\\n",
       "362     Volkswagen   55500.0  crossover       47      3.0      Diesel   \n",
       "30            Audi    2900.0      sedan        1      2.3         Gas   \n",
       "64   Mercedes-Benz   50000.0      sedan      240      3.5      Petrol   \n",
       "144         Toyota   26900.0  crossover      119      4.0         Gas   \n",
       "151            BMW   18100.0  crossover      200      4.8      Petrol   \n",
       "\n",
       "    Registration  Year               Model  \n",
       "362          yes  2016             Touareg  \n",
       "30           yes  1989                 100  \n",
       "64           yes  2006               S 350  \n",
       "144          yes  2008  Land Cruiser Prado  \n",
       "151          yes  2005                  X5  "
      ]
     },
     "execution_count": 9,
     "metadata": {},
     "output_type": "execute_result"
    }
   ],
   "source": [
    "df.sample(5)"
   ]
  },
  {
   "cell_type": "markdown",
   "id": "6410d99e",
   "metadata": {},
   "source": [
    "#### Rows and Columns"
   ]
  },
  {
   "cell_type": "code",
   "execution_count": 10,
   "id": "79f728ac",
   "metadata": {},
   "outputs": [
    {
     "data": {
      "text/plain": [
       "Index(['Brand', 'Price($)', 'Body', 'Mileage', 'EngineV', 'Engine Type',\n",
       "       'Registration', 'Year', 'Model'],\n",
       "      dtype='object')"
      ]
     },
     "execution_count": 10,
     "metadata": {},
     "output_type": "execute_result"
    }
   ],
   "source": [
    "df.columns"
   ]
  },
  {
   "cell_type": "code",
   "execution_count": 11,
   "id": "9ba2c7b1",
   "metadata": {},
   "outputs": [
    {
     "data": {
      "text/plain": [
       "0              BMW\n",
       "1    Mercedes-Benz\n",
       "2    Mercedes-Benz\n",
       "3             Audi\n",
       "4           Toyota\n",
       "Name: Brand, dtype: object"
      ]
     },
     "execution_count": 11,
     "metadata": {},
     "output_type": "execute_result"
    }
   ],
   "source": [
    "df['Brand'].head()"
   ]
  },
  {
   "cell_type": "markdown",
   "id": "0fed7913",
   "metadata": {},
   "source": [
    "In Pandas,a single column can be called Series."
   ]
  },
  {
   "cell_type": "code",
   "execution_count": 12,
   "id": "b1c1e6fa",
   "metadata": {},
   "outputs": [
    {
     "data": {
      "text/plain": [
       "pandas.core.series.Series"
      ]
     },
     "execution_count": 12,
     "metadata": {},
     "output_type": "execute_result"
    }
   ],
   "source": [
    "type(df['Brand'])"
   ]
  },
  {
   "cell_type": "markdown",
   "id": "23a1c13a",
   "metadata": {},
   "source": [
    "#### Renaming columns\n",
    "We can rename any column using any rename() function.\n",
    "Here, we are renaming \"Tea\" column to \"Hot Tea\"."
   ]
  },
  {
   "cell_type": "code",
   "execution_count": 13,
   "id": "899d9c7d",
   "metadata": {},
   "outputs": [],
   "source": [
    "df.rename(columns={'Price($)': 'Price'}, inplace=True)"
   ]
  },
  {
   "cell_type": "markdown",
   "id": "c886bc30",
   "metadata": {},
   "source": [
    "#### Selecting data with loc and iloc\n",
    "In Pandas, we can use loc and iloc.\n",
    "\n",
    "*loc* is used to access rows and columns by label/index or based on a boolean array.\n",
    "\n",
    "*iloc* is used to select data based on their integer location or based on a boolean array as well."
   ]
  },
  {
   "cell_type": "code",
   "execution_count": 14,
   "id": "d2a34cc4",
   "metadata": {},
   "outputs": [
    {
     "data": {
      "text/html": [
       "<div>\n",
       "<style scoped>\n",
       "    .dataframe tbody tr th:only-of-type {\n",
       "        vertical-align: middle;\n",
       "    }\n",
       "\n",
       "    .dataframe tbody tr th {\n",
       "        vertical-align: top;\n",
       "    }\n",
       "\n",
       "    .dataframe thead th {\n",
       "        text-align: right;\n",
       "    }\n",
       "</style>\n",
       "<table border=\"1\" class=\"dataframe\">\n",
       "  <thead>\n",
       "    <tr style=\"text-align: right;\">\n",
       "      <th></th>\n",
       "      <th>Brand</th>\n",
       "      <th>Price</th>\n",
       "      <th>Body</th>\n",
       "      <th>Mileage</th>\n",
       "      <th>EngineV</th>\n",
       "      <th>Engine Type</th>\n",
       "      <th>Registration</th>\n",
       "      <th>Year</th>\n",
       "      <th>Model</th>\n",
       "    </tr>\n",
       "  </thead>\n",
       "  <tbody>\n",
       "    <tr>\n",
       "      <th>5</th>\n",
       "      <td>Mercedes-Benz</td>\n",
       "      <td>199999.0</td>\n",
       "      <td>crossover</td>\n",
       "      <td>0</td>\n",
       "      <td>5.50</td>\n",
       "      <td>Petrol</td>\n",
       "      <td>yes</td>\n",
       "      <td>2016</td>\n",
       "      <td>GLS 63</td>\n",
       "    </tr>\n",
       "    <tr>\n",
       "      <th>62</th>\n",
       "      <td>BMW</td>\n",
       "      <td>133000.0</td>\n",
       "      <td>crossover</td>\n",
       "      <td>7</td>\n",
       "      <td>4.40</td>\n",
       "      <td>Petrol</td>\n",
       "      <td>yes</td>\n",
       "      <td>2015</td>\n",
       "      <td>X5 M</td>\n",
       "    </tr>\n",
       "    <tr>\n",
       "      <th>104</th>\n",
       "      <td>Mercedes-Benz</td>\n",
       "      <td>107999.0</td>\n",
       "      <td>crossover</td>\n",
       "      <td>0</td>\n",
       "      <td>2.98</td>\n",
       "      <td>Diesel</td>\n",
       "      <td>yes</td>\n",
       "      <td>2016</td>\n",
       "      <td>GLS 350</td>\n",
       "    </tr>\n",
       "    <tr>\n",
       "      <th>131</th>\n",
       "      <td>Toyota</td>\n",
       "      <td>195000.0</td>\n",
       "      <td>crossover</td>\n",
       "      <td>0</td>\n",
       "      <td>4.50</td>\n",
       "      <td>Diesel</td>\n",
       "      <td>yes</td>\n",
       "      <td>2016</td>\n",
       "      <td>Land Cruiser 200</td>\n",
       "    </tr>\n",
       "    <tr>\n",
       "      <th>173</th>\n",
       "      <td>Mercedes-Benz</td>\n",
       "      <td>169000.0</td>\n",
       "      <td>other</td>\n",
       "      <td>1</td>\n",
       "      <td>4.70</td>\n",
       "      <td>Petrol</td>\n",
       "      <td>yes</td>\n",
       "      <td>2015</td>\n",
       "      <td>S 500</td>\n",
       "    </tr>\n",
       "    <tr>\n",
       "      <th>218</th>\n",
       "      <td>Toyota</td>\n",
       "      <td>135000.0</td>\n",
       "      <td>crossover</td>\n",
       "      <td>1</td>\n",
       "      <td>4.50</td>\n",
       "      <td>Diesel</td>\n",
       "      <td>yes</td>\n",
       "      <td>2011</td>\n",
       "      <td>Land Cruiser 200</td>\n",
       "    </tr>\n",
       "    <tr>\n",
       "      <th>234</th>\n",
       "      <td>Mercedes-Benz</td>\n",
       "      <td>109999.0</td>\n",
       "      <td>crossover</td>\n",
       "      <td>0</td>\n",
       "      <td>3.00</td>\n",
       "      <td>Diesel</td>\n",
       "      <td>yes</td>\n",
       "      <td>2016</td>\n",
       "      <td>GLS 350</td>\n",
       "    </tr>\n",
       "    <tr>\n",
       "      <th>348</th>\n",
       "      <td>Mercedes-Benz</td>\n",
       "      <td>199999.0</td>\n",
       "      <td>crossover</td>\n",
       "      <td>0</td>\n",
       "      <td>5.50</td>\n",
       "      <td>Petrol</td>\n",
       "      <td>yes</td>\n",
       "      <td>2016</td>\n",
       "      <td>GLS 63</td>\n",
       "    </tr>\n",
       "    <tr>\n",
       "      <th>438</th>\n",
       "      <td>Mercedes-Benz</td>\n",
       "      <td>195000.0</td>\n",
       "      <td>crossover</td>\n",
       "      <td>2</td>\n",
       "      <td>5.50</td>\n",
       "      <td>Petrol</td>\n",
       "      <td>yes</td>\n",
       "      <td>2016</td>\n",
       "      <td>GLS 63</td>\n",
       "    </tr>\n",
       "    <tr>\n",
       "      <th>445</th>\n",
       "      <td>Mercedes-Benz</td>\n",
       "      <td>115000.0</td>\n",
       "      <td>sedan</td>\n",
       "      <td>47</td>\n",
       "      <td>4.60</td>\n",
       "      <td>Petrol</td>\n",
       "      <td>yes</td>\n",
       "      <td>2013</td>\n",
       "      <td>S 500</td>\n",
       "    </tr>\n",
       "  </tbody>\n",
       "</table>\n",
       "</div>"
      ],
      "text/plain": [
       "             Brand     Price       Body  Mileage  EngineV Engine Type  \\\n",
       "5    Mercedes-Benz  199999.0  crossover        0     5.50      Petrol   \n",
       "62             BMW  133000.0  crossover        7     4.40      Petrol   \n",
       "104  Mercedes-Benz  107999.0  crossover        0     2.98      Diesel   \n",
       "131         Toyota  195000.0  crossover        0     4.50      Diesel   \n",
       "173  Mercedes-Benz  169000.0      other        1     4.70      Petrol   \n",
       "218         Toyota  135000.0  crossover        1     4.50      Diesel   \n",
       "234  Mercedes-Benz  109999.0  crossover        0     3.00      Diesel   \n",
       "348  Mercedes-Benz  199999.0  crossover        0     5.50      Petrol   \n",
       "438  Mercedes-Benz  195000.0  crossover        2     5.50      Petrol   \n",
       "445  Mercedes-Benz  115000.0      sedan       47     4.60      Petrol   \n",
       "\n",
       "    Registration  Year             Model  \n",
       "5            yes  2016            GLS 63  \n",
       "62           yes  2015              X5 M  \n",
       "104          yes  2016           GLS 350  \n",
       "131          yes  2016  Land Cruiser 200  \n",
       "173          yes  2015             S 500  \n",
       "218          yes  2011  Land Cruiser 200  \n",
       "234          yes  2016           GLS 350  \n",
       "348          yes  2016            GLS 63  \n",
       "438          yes  2016            GLS 63  \n",
       "445          yes  2013             S 500  "
      ]
     },
     "execution_count": 14,
     "metadata": {},
     "output_type": "execute_result"
    }
   ],
   "source": [
    "df.loc[df['Price'] > 100000]"
   ]
  },
  {
   "cell_type": "code",
   "execution_count": 15,
   "id": "64c0b18b",
   "metadata": {},
   "outputs": [
    {
     "data": {
      "text/html": [
       "<div>\n",
       "<style scoped>\n",
       "    .dataframe tbody tr th:only-of-type {\n",
       "        vertical-align: middle;\n",
       "    }\n",
       "\n",
       "    .dataframe tbody tr th {\n",
       "        vertical-align: top;\n",
       "    }\n",
       "\n",
       "    .dataframe thead th {\n",
       "        text-align: right;\n",
       "    }\n",
       "</style>\n",
       "<table border=\"1\" class=\"dataframe\">\n",
       "  <thead>\n",
       "    <tr style=\"text-align: right;\">\n",
       "      <th></th>\n",
       "      <th>Price</th>\n",
       "      <th>Body</th>\n",
       "      <th>Mileage</th>\n",
       "      <th>EngineV</th>\n",
       "    </tr>\n",
       "  </thead>\n",
       "  <tbody>\n",
       "    <tr>\n",
       "      <th>0</th>\n",
       "      <td>4200.0</td>\n",
       "      <td>sedan</td>\n",
       "      <td>277</td>\n",
       "      <td>2.0</td>\n",
       "    </tr>\n",
       "    <tr>\n",
       "      <th>1</th>\n",
       "      <td>7900.0</td>\n",
       "      <td>van</td>\n",
       "      <td>427</td>\n",
       "      <td>2.9</td>\n",
       "    </tr>\n",
       "    <tr>\n",
       "      <th>2</th>\n",
       "      <td>13300.0</td>\n",
       "      <td>sedan</td>\n",
       "      <td>358</td>\n",
       "      <td>5.0</td>\n",
       "    </tr>\n",
       "    <tr>\n",
       "      <th>3</th>\n",
       "      <td>23000.0</td>\n",
       "      <td>crossover</td>\n",
       "      <td>240</td>\n",
       "      <td>4.2</td>\n",
       "    </tr>\n",
       "    <tr>\n",
       "      <th>4</th>\n",
       "      <td>18300.0</td>\n",
       "      <td>crossover</td>\n",
       "      <td>120</td>\n",
       "      <td>2.0</td>\n",
       "    </tr>\n",
       "    <tr>\n",
       "      <th>5</th>\n",
       "      <td>199999.0</td>\n",
       "      <td>crossover</td>\n",
       "      <td>0</td>\n",
       "      <td>5.5</td>\n",
       "    </tr>\n",
       "    <tr>\n",
       "      <th>6</th>\n",
       "      <td>6100.0</td>\n",
       "      <td>sedan</td>\n",
       "      <td>438</td>\n",
       "      <td>2.0</td>\n",
       "    </tr>\n",
       "    <tr>\n",
       "      <th>7</th>\n",
       "      <td>14200.0</td>\n",
       "      <td>vagon</td>\n",
       "      <td>200</td>\n",
       "      <td>2.7</td>\n",
       "    </tr>\n",
       "    <tr>\n",
       "      <th>8</th>\n",
       "      <td>10799.0</td>\n",
       "      <td>vagon</td>\n",
       "      <td>193</td>\n",
       "      <td>1.5</td>\n",
       "    </tr>\n",
       "    <tr>\n",
       "      <th>9</th>\n",
       "      <td>1400.0</td>\n",
       "      <td>other</td>\n",
       "      <td>212</td>\n",
       "      <td>1.8</td>\n",
       "    </tr>\n",
       "  </tbody>\n",
       "</table>\n",
       "</div>"
      ],
      "text/plain": [
       "      Price       Body  Mileage  EngineV\n",
       "0    4200.0      sedan      277      2.0\n",
       "1    7900.0        van      427      2.9\n",
       "2   13300.0      sedan      358      5.0\n",
       "3   23000.0  crossover      240      4.2\n",
       "4   18300.0  crossover      120      2.0\n",
       "5  199999.0  crossover        0      5.5\n",
       "6    6100.0      sedan      438      2.0\n",
       "7   14200.0      vagon      200      2.7\n",
       "8   10799.0      vagon      193      1.5\n",
       "9    1400.0      other      212      1.8"
      ]
     },
     "execution_count": 15,
     "metadata": {},
     "output_type": "execute_result"
    }
   ],
   "source": [
    "df.iloc[0:10, 1:5]"
   ]
  },
  {
   "cell_type": "markdown",
   "id": "376519ff",
   "metadata": {},
   "source": [
    "### 3. Handling missing values\n"
   ]
  },
  {
   "cell_type": "markdown",
   "id": "29f00bad",
   "metadata": {},
   "source": [
    "#### Detecting missing values"
   ]
  },
  {
   "cell_type": "code",
   "execution_count": 16,
   "id": "c5ab7cfc",
   "metadata": {},
   "outputs": [
    {
     "data": {
      "text/html": [
       "<div>\n",
       "<style scoped>\n",
       "    .dataframe tbody tr th:only-of-type {\n",
       "        vertical-align: middle;\n",
       "    }\n",
       "\n",
       "    .dataframe tbody tr th {\n",
       "        vertical-align: top;\n",
       "    }\n",
       "\n",
       "    .dataframe thead th {\n",
       "        text-align: right;\n",
       "    }\n",
       "</style>\n",
       "<table border=\"1\" class=\"dataframe\">\n",
       "  <thead>\n",
       "    <tr style=\"text-align: right;\">\n",
       "      <th></th>\n",
       "      <th>Brand</th>\n",
       "      <th>Price</th>\n",
       "      <th>Body</th>\n",
       "      <th>Mileage</th>\n",
       "      <th>EngineV</th>\n",
       "      <th>Engine Type</th>\n",
       "      <th>Registration</th>\n",
       "      <th>Year</th>\n",
       "      <th>Model</th>\n",
       "    </tr>\n",
       "  </thead>\n",
       "  <tbody>\n",
       "    <tr>\n",
       "      <th>0</th>\n",
       "      <td>False</td>\n",
       "      <td>False</td>\n",
       "      <td>False</td>\n",
       "      <td>False</td>\n",
       "      <td>False</td>\n",
       "      <td>False</td>\n",
       "      <td>False</td>\n",
       "      <td>False</td>\n",
       "      <td>False</td>\n",
       "    </tr>\n",
       "    <tr>\n",
       "      <th>1</th>\n",
       "      <td>False</td>\n",
       "      <td>False</td>\n",
       "      <td>False</td>\n",
       "      <td>False</td>\n",
       "      <td>False</td>\n",
       "      <td>False</td>\n",
       "      <td>False</td>\n",
       "      <td>False</td>\n",
       "      <td>False</td>\n",
       "    </tr>\n",
       "    <tr>\n",
       "      <th>2</th>\n",
       "      <td>False</td>\n",
       "      <td>False</td>\n",
       "      <td>False</td>\n",
       "      <td>False</td>\n",
       "      <td>False</td>\n",
       "      <td>False</td>\n",
       "      <td>False</td>\n",
       "      <td>False</td>\n",
       "      <td>False</td>\n",
       "    </tr>\n",
       "    <tr>\n",
       "      <th>3</th>\n",
       "      <td>False</td>\n",
       "      <td>False</td>\n",
       "      <td>False</td>\n",
       "      <td>False</td>\n",
       "      <td>False</td>\n",
       "      <td>False</td>\n",
       "      <td>False</td>\n",
       "      <td>False</td>\n",
       "      <td>False</td>\n",
       "    </tr>\n",
       "    <tr>\n",
       "      <th>4</th>\n",
       "      <td>False</td>\n",
       "      <td>False</td>\n",
       "      <td>False</td>\n",
       "      <td>False</td>\n",
       "      <td>False</td>\n",
       "      <td>False</td>\n",
       "      <td>False</td>\n",
       "      <td>False</td>\n",
       "      <td>False</td>\n",
       "    </tr>\n",
       "    <tr>\n",
       "      <th>...</th>\n",
       "      <td>...</td>\n",
       "      <td>...</td>\n",
       "      <td>...</td>\n",
       "      <td>...</td>\n",
       "      <td>...</td>\n",
       "      <td>...</td>\n",
       "      <td>...</td>\n",
       "      <td>...</td>\n",
       "      <td>...</td>\n",
       "    </tr>\n",
       "    <tr>\n",
       "      <th>495</th>\n",
       "      <td>False</td>\n",
       "      <td>False</td>\n",
       "      <td>False</td>\n",
       "      <td>False</td>\n",
       "      <td>False</td>\n",
       "      <td>False</td>\n",
       "      <td>False</td>\n",
       "      <td>False</td>\n",
       "      <td>False</td>\n",
       "    </tr>\n",
       "    <tr>\n",
       "      <th>496</th>\n",
       "      <td>False</td>\n",
       "      <td>False</td>\n",
       "      <td>False</td>\n",
       "      <td>False</td>\n",
       "      <td>False</td>\n",
       "      <td>False</td>\n",
       "      <td>False</td>\n",
       "      <td>False</td>\n",
       "      <td>False</td>\n",
       "    </tr>\n",
       "    <tr>\n",
       "      <th>497</th>\n",
       "      <td>False</td>\n",
       "      <td>False</td>\n",
       "      <td>False</td>\n",
       "      <td>False</td>\n",
       "      <td>False</td>\n",
       "      <td>False</td>\n",
       "      <td>False</td>\n",
       "      <td>False</td>\n",
       "      <td>False</td>\n",
       "    </tr>\n",
       "    <tr>\n",
       "      <th>498</th>\n",
       "      <td>False</td>\n",
       "      <td>False</td>\n",
       "      <td>False</td>\n",
       "      <td>False</td>\n",
       "      <td>False</td>\n",
       "      <td>False</td>\n",
       "      <td>False</td>\n",
       "      <td>False</td>\n",
       "      <td>False</td>\n",
       "    </tr>\n",
       "    <tr>\n",
       "      <th>499</th>\n",
       "      <td>False</td>\n",
       "      <td>False</td>\n",
       "      <td>False</td>\n",
       "      <td>False</td>\n",
       "      <td>False</td>\n",
       "      <td>False</td>\n",
       "      <td>False</td>\n",
       "      <td>False</td>\n",
       "      <td>False</td>\n",
       "    </tr>\n",
       "  </tbody>\n",
       "</table>\n",
       "<p>500 rows × 9 columns</p>\n",
       "</div>"
      ],
      "text/plain": [
       "     Brand  Price   Body  Mileage  EngineV  Engine Type  Registration   Year  \\\n",
       "0    False  False  False    False    False        False         False  False   \n",
       "1    False  False  False    False    False        False         False  False   \n",
       "2    False  False  False    False    False        False         False  False   \n",
       "3    False  False  False    False    False        False         False  False   \n",
       "4    False  False  False    False    False        False         False  False   \n",
       "..     ...    ...    ...      ...      ...          ...           ...    ...   \n",
       "495  False  False  False    False    False        False         False  False   \n",
       "496  False  False  False    False    False        False         False  False   \n",
       "497  False  False  False    False    False        False         False  False   \n",
       "498  False  False  False    False    False        False         False  False   \n",
       "499  False  False  False    False    False        False         False  False   \n",
       "\n",
       "     Model  \n",
       "0    False  \n",
       "1    False  \n",
       "2    False  \n",
       "3    False  \n",
       "4    False  \n",
       "..     ...  \n",
       "495  False  \n",
       "496  False  \n",
       "497  False  \n",
       "498  False  \n",
       "499  False  \n",
       "\n",
       "[500 rows x 9 columns]"
      ]
     },
     "execution_count": 16,
     "metadata": {},
     "output_type": "execute_result"
    }
   ],
   "source": [
    "df.isnull()"
   ]
  },
  {
   "cell_type": "code",
   "execution_count": 17,
   "id": "44f4af16",
   "metadata": {},
   "outputs": [
    {
     "data": {
      "text/plain": [
       "Brand            0\n",
       "Price           19\n",
       "Body             0\n",
       "Mileage          0\n",
       "EngineV         18\n",
       "Engine Type      0\n",
       "Registration     0\n",
       "Year             0\n",
       "Model            0\n",
       "dtype: int64"
      ]
     },
     "execution_count": 17,
     "metadata": {},
     "output_type": "execute_result"
    }
   ],
   "source": [
    "df.isnull().sum()"
   ]
  },
  {
   "cell_type": "markdown",
   "id": "151651f1",
   "metadata": {},
   "source": [
    "#### Removing missing values\n",
    "\n",
    "We can use drop function to remove the null values from dataset.\n"
   ]
  },
  {
   "cell_type": "code",
   "execution_count": 18,
   "id": "6d3a7cc8",
   "metadata": {},
   "outputs": [],
   "source": [
    "df2 = df.copy()"
   ]
  },
  {
   "cell_type": "code",
   "execution_count": 19,
   "id": "dddc3492",
   "metadata": {},
   "outputs": [],
   "source": [
    "df2.dropna(axis=0, inplace=True)"
   ]
  },
  {
   "cell_type": "code",
   "execution_count": 20,
   "id": "407d236b",
   "metadata": {},
   "outputs": [
    {
     "data": {
      "text/html": [
       "<div>\n",
       "<style scoped>\n",
       "    .dataframe tbody tr th:only-of-type {\n",
       "        vertical-align: middle;\n",
       "    }\n",
       "\n",
       "    .dataframe tbody tr th {\n",
       "        vertical-align: top;\n",
       "    }\n",
       "\n",
       "    .dataframe thead th {\n",
       "        text-align: right;\n",
       "    }\n",
       "</style>\n",
       "<table border=\"1\" class=\"dataframe\">\n",
       "  <thead>\n",
       "    <tr style=\"text-align: right;\">\n",
       "      <th></th>\n",
       "      <th>Brand</th>\n",
       "      <th>Price</th>\n",
       "      <th>Body</th>\n",
       "      <th>Mileage</th>\n",
       "      <th>EngineV</th>\n",
       "      <th>Engine Type</th>\n",
       "      <th>Registration</th>\n",
       "      <th>Year</th>\n",
       "      <th>Model</th>\n",
       "    </tr>\n",
       "  </thead>\n",
       "  <tbody>\n",
       "    <tr>\n",
       "      <th>0</th>\n",
       "      <td>BMW</td>\n",
       "      <td>4200.0</td>\n",
       "      <td>sedan</td>\n",
       "      <td>277</td>\n",
       "      <td>2.0</td>\n",
       "      <td>Petrol</td>\n",
       "      <td>yes</td>\n",
       "      <td>1991</td>\n",
       "      <td>320</td>\n",
       "    </tr>\n",
       "    <tr>\n",
       "      <th>1</th>\n",
       "      <td>Mercedes-Benz</td>\n",
       "      <td>7900.0</td>\n",
       "      <td>van</td>\n",
       "      <td>427</td>\n",
       "      <td>2.9</td>\n",
       "      <td>Diesel</td>\n",
       "      <td>yes</td>\n",
       "      <td>1999</td>\n",
       "      <td>Sprinter 212</td>\n",
       "    </tr>\n",
       "    <tr>\n",
       "      <th>2</th>\n",
       "      <td>Mercedes-Benz</td>\n",
       "      <td>13300.0</td>\n",
       "      <td>sedan</td>\n",
       "      <td>358</td>\n",
       "      <td>5.0</td>\n",
       "      <td>Gas</td>\n",
       "      <td>yes</td>\n",
       "      <td>2003</td>\n",
       "      <td>S 500</td>\n",
       "    </tr>\n",
       "    <tr>\n",
       "      <th>3</th>\n",
       "      <td>Audi</td>\n",
       "      <td>23000.0</td>\n",
       "      <td>crossover</td>\n",
       "      <td>240</td>\n",
       "      <td>4.2</td>\n",
       "      <td>Petrol</td>\n",
       "      <td>yes</td>\n",
       "      <td>2007</td>\n",
       "      <td>Q7</td>\n",
       "    </tr>\n",
       "    <tr>\n",
       "      <th>4</th>\n",
       "      <td>Toyota</td>\n",
       "      <td>18300.0</td>\n",
       "      <td>crossover</td>\n",
       "      <td>120</td>\n",
       "      <td>2.0</td>\n",
       "      <td>Petrol</td>\n",
       "      <td>yes</td>\n",
       "      <td>2011</td>\n",
       "      <td>Rav 4</td>\n",
       "    </tr>\n",
       "    <tr>\n",
       "      <th>...</th>\n",
       "      <td>...</td>\n",
       "      <td>...</td>\n",
       "      <td>...</td>\n",
       "      <td>...</td>\n",
       "      <td>...</td>\n",
       "      <td>...</td>\n",
       "      <td>...</td>\n",
       "      <td>...</td>\n",
       "      <td>...</td>\n",
       "    </tr>\n",
       "    <tr>\n",
       "      <th>495</th>\n",
       "      <td>Mitsubishi</td>\n",
       "      <td>8000.0</td>\n",
       "      <td>sedan</td>\n",
       "      <td>145</td>\n",
       "      <td>2.0</td>\n",
       "      <td>Gas</td>\n",
       "      <td>yes</td>\n",
       "      <td>2007</td>\n",
       "      <td>Lancer</td>\n",
       "    </tr>\n",
       "    <tr>\n",
       "      <th>496</th>\n",
       "      <td>Renault</td>\n",
       "      <td>6600.0</td>\n",
       "      <td>van</td>\n",
       "      <td>184</td>\n",
       "      <td>1.5</td>\n",
       "      <td>Diesel</td>\n",
       "      <td>yes</td>\n",
       "      <td>2012</td>\n",
       "      <td>Kangoo</td>\n",
       "    </tr>\n",
       "    <tr>\n",
       "      <th>497</th>\n",
       "      <td>Mercedes-Benz</td>\n",
       "      <td>22500.0</td>\n",
       "      <td>sedan</td>\n",
       "      <td>164</td>\n",
       "      <td>1.8</td>\n",
       "      <td>Gas</td>\n",
       "      <td>yes</td>\n",
       "      <td>2012</td>\n",
       "      <td>E-Class</td>\n",
       "    </tr>\n",
       "    <tr>\n",
       "      <th>498</th>\n",
       "      <td>Mercedes-Benz</td>\n",
       "      <td>13200.0</td>\n",
       "      <td>other</td>\n",
       "      <td>196</td>\n",
       "      <td>2.2</td>\n",
       "      <td>Other</td>\n",
       "      <td>yes</td>\n",
       "      <td>2012</td>\n",
       "      <td>Sprinter 313</td>\n",
       "    </tr>\n",
       "    <tr>\n",
       "      <th>499</th>\n",
       "      <td>Volkswagen</td>\n",
       "      <td>1200.0</td>\n",
       "      <td>other</td>\n",
       "      <td>300</td>\n",
       "      <td>1.4</td>\n",
       "      <td>Gas</td>\n",
       "      <td>yes</td>\n",
       "      <td>2000</td>\n",
       "      <td>Caddy</td>\n",
       "    </tr>\n",
       "  </tbody>\n",
       "</table>\n",
       "<p>463 rows × 9 columns</p>\n",
       "</div>"
      ],
      "text/plain": [
       "             Brand    Price       Body  Mileage  EngineV Engine Type  \\\n",
       "0              BMW   4200.0      sedan      277      2.0      Petrol   \n",
       "1    Mercedes-Benz   7900.0        van      427      2.9      Diesel   \n",
       "2    Mercedes-Benz  13300.0      sedan      358      5.0         Gas   \n",
       "3             Audi  23000.0  crossover      240      4.2      Petrol   \n",
       "4           Toyota  18300.0  crossover      120      2.0      Petrol   \n",
       "..             ...      ...        ...      ...      ...         ...   \n",
       "495     Mitsubishi   8000.0      sedan      145      2.0         Gas   \n",
       "496        Renault   6600.0        van      184      1.5      Diesel   \n",
       "497  Mercedes-Benz  22500.0      sedan      164      1.8         Gas   \n",
       "498  Mercedes-Benz  13200.0      other      196      2.2       Other   \n",
       "499     Volkswagen   1200.0      other      300      1.4         Gas   \n",
       "\n",
       "    Registration  Year         Model  \n",
       "0            yes  1991           320  \n",
       "1            yes  1999  Sprinter 212  \n",
       "2            yes  2003         S 500  \n",
       "3            yes  2007            Q7  \n",
       "4            yes  2011         Rav 4  \n",
       "..           ...   ...           ...  \n",
       "495          yes  2007        Lancer  \n",
       "496          yes  2012        Kangoo  \n",
       "497          yes  2012       E-Class  \n",
       "498          yes  2012  Sprinter 313  \n",
       "499          yes  2000         Caddy  \n",
       "\n",
       "[463 rows x 9 columns]"
      ]
     },
     "execution_count": 20,
     "metadata": {},
     "output_type": "execute_result"
    }
   ],
   "source": [
    "df2"
   ]
  },
  {
   "cell_type": "markdown",
   "id": "bee15b5e",
   "metadata": {},
   "source": [
    "#### Filling missing values\n",
    "\n",
    "Pandas allows us to fill missing value using fillna() function. We can use mean(), median(), mode() and any self-defined function to calculate filling value."
   ]
  },
  {
   "cell_type": "code",
   "execution_count": 21,
   "id": "e1cc7e62",
   "metadata": {},
   "outputs": [],
   "source": [
    "df.fillna(df.mean(numeric_only=True).round(1), inplace=True)"
   ]
  },
  {
   "cell_type": "code",
   "execution_count": 22,
   "id": "1f3617d1",
   "metadata": {},
   "outputs": [
    {
     "data": {
      "text/plain": [
       "Brand           0\n",
       "Price           0\n",
       "Body            0\n",
       "Mileage         0\n",
       "EngineV         0\n",
       "Engine Type     0\n",
       "Registration    0\n",
       "Year            0\n",
       "Model           0\n",
       "dtype: int64"
      ]
     },
     "execution_count": 22,
     "metadata": {},
     "output_type": "execute_result"
    }
   ],
   "source": [
    "df.isnull().sum()"
   ]
  },
  {
   "cell_type": "code",
   "execution_count": 23,
   "id": "eca8d40b",
   "metadata": {},
   "outputs": [
    {
     "data": {
      "text/plain": [
       "array(['BMW', 'Mercedes-Benz', 'Audi', 'Toyota', 'Renault', 'Volkswagen',\n",
       "       'Mitsubishi'], dtype=object)"
      ]
     },
     "execution_count": 23,
     "metadata": {},
     "output_type": "execute_result"
    }
   ],
   "source": [
    "df['Brand'].unique()"
   ]
  },
  {
   "cell_type": "code",
   "execution_count": 24,
   "id": "d752ed01",
   "metadata": {},
   "outputs": [
    {
     "data": {
      "text/html": [
       "<div>\n",
       "<style scoped>\n",
       "    .dataframe tbody tr th:only-of-type {\n",
       "        vertical-align: middle;\n",
       "    }\n",
       "\n",
       "    .dataframe tbody tr th {\n",
       "        vertical-align: top;\n",
       "    }\n",
       "\n",
       "    .dataframe thead th {\n",
       "        text-align: right;\n",
       "    }\n",
       "</style>\n",
       "<table border=\"1\" class=\"dataframe\">\n",
       "  <thead>\n",
       "    <tr style=\"text-align: right;\">\n",
       "      <th></th>\n",
       "      <th>Brand</th>\n",
       "      <th>Price</th>\n",
       "      <th>Mileage</th>\n",
       "      <th>EngineV</th>\n",
       "      <th>Year</th>\n",
       "    </tr>\n",
       "  </thead>\n",
       "  <tbody>\n",
       "    <tr>\n",
       "      <th>0</th>\n",
       "      <td>Audi</td>\n",
       "      <td>16800.846154</td>\n",
       "      <td>173.423077</td>\n",
       "      <td>2.711538</td>\n",
       "      <td>2004.192308</td>\n",
       "    </tr>\n",
       "    <tr>\n",
       "      <th>1</th>\n",
       "      <td>BMW</td>\n",
       "      <td>21378.350000</td>\n",
       "      <td>192.662500</td>\n",
       "      <td>2.833125</td>\n",
       "      <td>2003.625000</td>\n",
       "    </tr>\n",
       "    <tr>\n",
       "      <th>2</th>\n",
       "      <td>Mercedes-Benz</td>\n",
       "      <td>26332.654808</td>\n",
       "      <td>172.278846</td>\n",
       "      <td>3.855865</td>\n",
       "      <td>2006.682692</td>\n",
       "    </tr>\n",
       "    <tr>\n",
       "      <th>3</th>\n",
       "      <td>Mitsubishi</td>\n",
       "      <td>10181.095833</td>\n",
       "      <td>148.833333</td>\n",
       "      <td>2.261111</td>\n",
       "      <td>2005.527778</td>\n",
       "    </tr>\n",
       "    <tr>\n",
       "      <th>4</th>\n",
       "      <td>Renault</td>\n",
       "      <td>8674.918438</td>\n",
       "      <td>152.421875</td>\n",
       "      <td>1.665469</td>\n",
       "      <td>2008.937500</td>\n",
       "    </tr>\n",
       "    <tr>\n",
       "      <th>5</th>\n",
       "      <td>Toyota</td>\n",
       "      <td>24702.667679</td>\n",
       "      <td>117.017857</td>\n",
       "      <td>2.769643</td>\n",
       "      <td>2007.857143</td>\n",
       "    </tr>\n",
       "    <tr>\n",
       "      <th>6</th>\n",
       "      <td>Volkswagen</td>\n",
       "      <td>14712.762037</td>\n",
       "      <td>160.490741</td>\n",
       "      <td>2.031481</td>\n",
       "      <td>2007.296296</td>\n",
       "    </tr>\n",
       "  </tbody>\n",
       "</table>\n",
       "</div>"
      ],
      "text/plain": [
       "           Brand         Price     Mileage   EngineV         Year\n",
       "0           Audi  16800.846154  173.423077  2.711538  2004.192308\n",
       "1            BMW  21378.350000  192.662500  2.833125  2003.625000\n",
       "2  Mercedes-Benz  26332.654808  172.278846  3.855865  2006.682692\n",
       "3     Mitsubishi  10181.095833  148.833333  2.261111  2005.527778\n",
       "4        Renault   8674.918438  152.421875  1.665469  2008.937500\n",
       "5         Toyota  24702.667679  117.017857  2.769643  2007.857143\n",
       "6     Volkswagen  14712.762037  160.490741  2.031481  2007.296296"
      ]
     },
     "execution_count": 24,
     "metadata": {},
     "output_type": "execute_result"
    }
   ],
   "source": [
    "brand_mean = df.groupby('Brand').mean(numeric_only = True)\n",
    "brand_mean.reset_index(inplace=True)\n",
    "brand_mean"
   ]
  },
  {
   "cell_type": "markdown",
   "id": "fe3fae33",
   "metadata": {},
   "source": [
    "### 4. Visualizing data"
   ]
  },
  {
   "cell_type": "code",
   "execution_count": 25,
   "id": "3c9cbbc9",
   "metadata": {},
   "outputs": [],
   "source": [
    "plt.rcParams[\"figure.figsize\"] = (16,8)"
   ]
  },
  {
   "cell_type": "code",
   "execution_count": 26,
   "id": "4e495e30",
   "metadata": {},
   "outputs": [
    {
     "data": {
      "image/png": "[encoded data removed]",
      "text/plain": [
       "<Figure size 1600x800 with 1 Axes>"
      ]
     },
     "metadata": {},
     "output_type": "display_data"
    }
   ],
   "source": [
    "fig, ax = plt.subplots()\n",
    "ax.boxplot(df['Price'])\n",
    "ax.set_title('Price Boxplot')\n",
    "ax.set_xlabel('Brand')\n",
    "ax.set_ylabel('Price')\n",
    "plt.show()"
   ]
  },
  {
   "cell_type": "markdown",
   "id": "c6120c11",
   "metadata": {},
   "source": [
    "The resulting plot will show a boxplot of the \"Price\" column, with each box representing the quartiles of the data, and any outliers shown as individual points beyond the whiskers of the boxplot. The x-axis will be labeled with the brand names, and the y-axis will be labeled \"Price\"."
   ]
  },
  {
   "cell_type": "code",
   "execution_count": 43,
   "id": "4f1b6aae",
   "metadata": {},
   "outputs": [
    {
     "data": {
      "image/png": "[encoded data removed]",
      "text/plain": [
       "<Figure size 1600x800 with 1 Axes>"
      ]
     },
     "metadata": {},
     "output_type": "display_data"
    }
   ],
   "source": [
    "plt.pie(brand_mean['Price'], labels=brand_mean['Brand'],autopct='%1.1f%%')\n",
    "\n",
    "# add a title\n",
    "plt.title('Average Car Prices by Brand')\n",
    "for i, brand in enumerate(brand_mean['Brand']):\n",
    "    ax.text(2.5, 0.2*i, f'{brand}: ${brand_mean.iloc[i][\"Price\"]:.2f}, {brand_mean.iloc[i][\"Mileage\"]:.2f} miles', color='black', fontsize=12)\n",
    "plt.show()"
   ]
  },
  {
   "cell_type": "markdown",
   "id": "6bee5072",
   "metadata": {},
   "source": [
    "The resulting pie chart will show the distribution of average car prices by brand, with details on the average mileage of each brand included in the chart."
   ]
  },
  {
   "cell_type": "code",
   "execution_count": 27,
   "id": "8baccdc5",
   "metadata": {},
   "outputs": [
    {
     "data": {
      "image/png": "[encoded data removed]",
      "text/plain": [
       "<Figure size 1600x800 with 1 Axes>"
      ]
     },
     "metadata": {},
     "output_type": "display_data"
    }
   ],
   "source": [
    "a = brand_mean['Price'].tolist()\n",
    "b = brand_mean['Brand'].tolist()\n",
    "df1 = pd.DataFrame({'Price': a}, index = b)\n",
    "df1.plot.bar(rot=0)\n",
    "plt.title(\"Brand vs Average Price\")\n",
    "plt.xlabel(\"Average Price\")\n",
    "plt.ylabel(\"Brand\")\n",
    "plt.show()"
   ]
  },
  {
   "cell_type": "code",
   "execution_count": 28,
   "id": "7773f288",
   "metadata": {},
   "outputs": [
    {
     "data": {
      "image/png": "[encoded data removed]",
      "text/plain": [
       "<Figure size 1600x800 with 1 Axes>"
      ]
     },
     "metadata": {},
     "output_type": "display_data"
    }
   ],
   "source": [
    "a = brand_mean['Mileage'].tolist()\n",
    "b = brand_mean['Brand'].tolist()\n",
    "df1 = pd.DataFrame({'Mileage': a}, index = b)\n",
    "df1.plot.bar(rot=0)\n",
    "plt.title(\"Brand vs Average Mileage\")\n",
    "plt.xlabel(\"Average Mileage\")\n",
    "plt.ylabel(\"Brand\")\n",
    "plt.show()"
   ]
  },
  {
   "cell_type": "code",
   "execution_count": 29,
   "id": "4edfffd2",
   "metadata": {},
   "outputs": [
    {
     "data": {
      "image/png": "[encoded data removed]",
      "text/plain": [
       "<Figure size 1600x800 with 1 Axes>"
      ]
     },
     "metadata": {},
     "output_type": "display_data"
    }
   ],
   "source": [
    "a = brand_mean['EngineV'].tolist()\n",
    "b = brand_mean['Brand'].tolist()\n",
    "df1 = pd.DataFrame({'EngineV': a}, index = b)\n",
    "df1.plot.bar(rot=0)\n",
    "plt.title(\"Brand vs Average EngineV\")\n",
    "plt.xlabel(\"Brand\")\n",
    "plt.ylabel(\"Average EngineV\")\n",
    "plt.show()"
   ]
  },
  {
   "cell_type": "code",
   "execution_count": 30,
   "id": "4d2de869",
   "metadata": {},
   "outputs": [
    {
     "data": {
      "image/png": "[encoded data removed]",
      "text/plain": [
       "<Figure size 1600x800 with 1 Axes>"
      ]
     },
     "metadata": {},
     "output_type": "display_data"
    }
   ],
   "source": [
    "plt.scatter(df['Price'], df['Mileage'])\n",
    "plt.xlabel('Price',size=18)\n",
    "plt.ylabel('Mileage',size=18)\n",
    "plt.title(\"Price and Mileage\")\n",
    "plt.show()"
   ]
  },
  {
   "cell_type": "code",
   "execution_count": 31,
   "id": "4a950d30",
   "metadata": {},
   "outputs": [
    {
     "data": {
      "image/png": "[encoded data removed]",
      "text/plain": [
       "<Figure size 1600x800 with 1 Axes>"
      ]
     },
     "metadata": {},
     "output_type": "display_data"
    }
   ],
   "source": [
    "plt.scatter(df['Brand'], df['Mileage'])\n",
    "plt.xlabel('Brand',size=18)\n",
    "plt.ylabel('Mileage',size=18)\n",
    "plt.title(\"Brand and Mileage\")\n",
    "plt.show()"
   ]
  },
  {
   "cell_type": "code",
   "execution_count": 45,
   "id": "286a7f4d",
   "metadata": {},
   "outputs": [
    {
     "data": {
      "image/png": "[encoded data removed]",
      "text/plain": [
       "<Figure size 800x600 with 1 Axes>"
      ]
     },
     "metadata": {},
     "output_type": "display_data"
    }
   ],
   "source": [
    "fig, ax = plt.subplots(figsize=(8, 6))\n",
    "ax.scatter(brand_mean['Price'], brand_mean['Mileage'], s=100, alpha=0.8)\n",
    "\n",
    "# Add details to the scatter plot\n",
    "ax.set_title('Average Car Prices vs. Mileage by Brand')\n",
    "ax.set_xlabel('Average Price')\n",
    "ax.set_ylabel('Average Mileage')\n",
    "for i, brand in enumerate(brand_mean['Brand']):\n",
    "    ax.annotate(brand, (brand_mean.iloc[i]['Price'], brand_mean.iloc[i]['Mileage']), fontsize=12)\n",
    "\n",
    "plt.show()"
   ]
  },
  {
   "cell_type": "markdown",
   "id": "9a53c576",
   "metadata": {},
   "source": [
    "The resulting scatter plot will show the relationship between the average car prices and average mileage for each brand, with the brand labels added for easy identification."
   ]
  },
  {
   "cell_type": "markdown",
   "id": "15a06421",
   "metadata": {},
   "source": [
    "## Conclusion\n",
    "Based on the dataset and visualization, we can draw several conclusions about the average characteristics of different car brands:\n",
    "\n",
    "1.The most expensive cars, on average, are made by Mercedes-Benz, with an average price of over 26,000 dollars, followed by BMW with an average price of just over 21,000 dollars.\n",
    "\n",
    "2.The least expensive cars, on average, are made by Renault, with an average price of just over 8,600 dollars.\n",
    "\n",
    "3.The cars with the highest average engine volume are made by Mercedes-Benz, with an average engine volume of almost 4 liters.\n",
    "\n",
    "4.The cars with the lowest average engine volume are made by Renault, with an average engine volume of just over 1.6 liters.\n",
    "\n",
    "5.The average mileage of the cars does not show significant differences between brands, with the highest average mileage of approximately 193 miles per gallon for BMW and the lowest average mileage of approximately 117 miles per gallon for Toyota.\n",
    "\n"
   ]
  },
  {
   "cell_type": "markdown",
   "id": "b2bcfe06",
   "metadata": {},
   "source": [
    "The boxplot visualization of the average prices by brand shows the range and distribution of prices for each brand. It indicates that Mercedes-Benz has the highest average price and the highest variability in prices, with some models being significantly more expensive than others. Renault, on the other hand, has a relatively low average price with a narrow range of prices, indicating that the prices of Renault models are more consistent across the brand. The visualization also shows that BMW and Toyota have relatively consistent prices, with less variability than Mercedes-Benz."
   ]
  },
  {
   "cell_type": "code",
   "execution_count": 32,
   "id": "7eb8ecf1",
   "metadata": {},
   "outputs": [
    {
     "data": {
      "text/html": [
       "<div>\n",
       "<style scoped>\n",
       "    .dataframe tbody tr th:only-of-type {\n",
       "        vertical-align: middle;\n",
       "    }\n",
       "\n",
       "    .dataframe tbody tr th {\n",
       "        vertical-align: top;\n",
       "    }\n",
       "\n",
       "    .dataframe thead th {\n",
       "        text-align: right;\n",
       "    }\n",
       "</style>\n",
       "<table border=\"1\" class=\"dataframe\">\n",
       "  <thead>\n",
       "    <tr style=\"text-align: right;\">\n",
       "      <th></th>\n",
       "      <th>Brand</th>\n",
       "      <th>Price</th>\n",
       "      <th>Body</th>\n",
       "      <th>Mileage</th>\n",
       "      <th>EngineV</th>\n",
       "      <th>Engine Type</th>\n",
       "      <th>Registration</th>\n",
       "      <th>Year</th>\n",
       "      <th>Model</th>\n",
       "    </tr>\n",
       "  </thead>\n",
       "  <tbody>\n",
       "    <tr>\n",
       "      <th>0</th>\n",
       "      <td>BMW</td>\n",
       "      <td>4200.0</td>\n",
       "      <td>sedan</td>\n",
       "      <td>277</td>\n",
       "      <td>2.0</td>\n",
       "      <td>Petrol</td>\n",
       "      <td>yes</td>\n",
       "      <td>1991</td>\n",
       "      <td>320</td>\n",
       "    </tr>\n",
       "    <tr>\n",
       "      <th>1</th>\n",
       "      <td>Mercedes-Benz</td>\n",
       "      <td>7900.0</td>\n",
       "      <td>van</td>\n",
       "      <td>427</td>\n",
       "      <td>2.9</td>\n",
       "      <td>Diesel</td>\n",
       "      <td>yes</td>\n",
       "      <td>1999</td>\n",
       "      <td>Sprinter 212</td>\n",
       "    </tr>\n",
       "    <tr>\n",
       "      <th>2</th>\n",
       "      <td>Mercedes-Benz</td>\n",
       "      <td>13300.0</td>\n",
       "      <td>sedan</td>\n",
       "      <td>358</td>\n",
       "      <td>5.0</td>\n",
       "      <td>Gas</td>\n",
       "      <td>yes</td>\n",
       "      <td>2003</td>\n",
       "      <td>S 500</td>\n",
       "    </tr>\n",
       "    <tr>\n",
       "      <th>3</th>\n",
       "      <td>Audi</td>\n",
       "      <td>23000.0</td>\n",
       "      <td>crossover</td>\n",
       "      <td>240</td>\n",
       "      <td>4.2</td>\n",
       "      <td>Petrol</td>\n",
       "      <td>yes</td>\n",
       "      <td>2007</td>\n",
       "      <td>Q7</td>\n",
       "    </tr>\n",
       "    <tr>\n",
       "      <th>4</th>\n",
       "      <td>Toyota</td>\n",
       "      <td>18300.0</td>\n",
       "      <td>crossover</td>\n",
       "      <td>120</td>\n",
       "      <td>2.0</td>\n",
       "      <td>Petrol</td>\n",
       "      <td>yes</td>\n",
       "      <td>2011</td>\n",
       "      <td>Rav 4</td>\n",
       "    </tr>\n",
       "    <tr>\n",
       "      <th>...</th>\n",
       "      <td>...</td>\n",
       "      <td>...</td>\n",
       "      <td>...</td>\n",
       "      <td>...</td>\n",
       "      <td>...</td>\n",
       "      <td>...</td>\n",
       "      <td>...</td>\n",
       "      <td>...</td>\n",
       "      <td>...</td>\n",
       "    </tr>\n",
       "    <tr>\n",
       "      <th>495</th>\n",
       "      <td>Mitsubishi</td>\n",
       "      <td>8000.0</td>\n",
       "      <td>sedan</td>\n",
       "      <td>145</td>\n",
       "      <td>2.0</td>\n",
       "      <td>Gas</td>\n",
       "      <td>yes</td>\n",
       "      <td>2007</td>\n",
       "      <td>Lancer</td>\n",
       "    </tr>\n",
       "    <tr>\n",
       "      <th>496</th>\n",
       "      <td>Renault</td>\n",
       "      <td>6600.0</td>\n",
       "      <td>van</td>\n",
       "      <td>184</td>\n",
       "      <td>1.5</td>\n",
       "      <td>Diesel</td>\n",
       "      <td>yes</td>\n",
       "      <td>2012</td>\n",
       "      <td>Kangoo</td>\n",
       "    </tr>\n",
       "    <tr>\n",
       "      <th>497</th>\n",
       "      <td>Mercedes-Benz</td>\n",
       "      <td>22500.0</td>\n",
       "      <td>sedan</td>\n",
       "      <td>164</td>\n",
       "      <td>1.8</td>\n",
       "      <td>Gas</td>\n",
       "      <td>yes</td>\n",
       "      <td>2012</td>\n",
       "      <td>E-Class</td>\n",
       "    </tr>\n",
       "    <tr>\n",
       "      <th>498</th>\n",
       "      <td>Mercedes-Benz</td>\n",
       "      <td>13200.0</td>\n",
       "      <td>other</td>\n",
       "      <td>196</td>\n",
       "      <td>2.2</td>\n",
       "      <td>Other</td>\n",
       "      <td>yes</td>\n",
       "      <td>2012</td>\n",
       "      <td>Sprinter 313</td>\n",
       "    </tr>\n",
       "    <tr>\n",
       "      <th>499</th>\n",
       "      <td>Volkswagen</td>\n",
       "      <td>1200.0</td>\n",
       "      <td>other</td>\n",
       "      <td>300</td>\n",
       "      <td>1.4</td>\n",
       "      <td>Gas</td>\n",
       "      <td>yes</td>\n",
       "      <td>2000</td>\n",
       "      <td>Caddy</td>\n",
       "    </tr>\n",
       "  </tbody>\n",
       "</table>\n",
       "<p>500 rows × 9 columns</p>\n",
       "</div>"
      ],
      "text/plain": [
       "             Brand    Price       Body  Mileage  EngineV Engine Type  \\\n",
       "0              BMW   4200.0      sedan      277      2.0      Petrol   \n",
       "1    Mercedes-Benz   7900.0        van      427      2.9      Diesel   \n",
       "2    Mercedes-Benz  13300.0      sedan      358      5.0         Gas   \n",
       "3             Audi  23000.0  crossover      240      4.2      Petrol   \n",
       "4           Toyota  18300.0  crossover      120      2.0      Petrol   \n",
       "..             ...      ...        ...      ...      ...         ...   \n",
       "495     Mitsubishi   8000.0      sedan      145      2.0         Gas   \n",
       "496        Renault   6600.0        van      184      1.5      Diesel   \n",
       "497  Mercedes-Benz  22500.0      sedan      164      1.8         Gas   \n",
       "498  Mercedes-Benz  13200.0      other      196      2.2       Other   \n",
       "499     Volkswagen   1200.0      other      300      1.4         Gas   \n",
       "\n",
       "    Registration  Year         Model  \n",
       "0            yes  1991           320  \n",
       "1            yes  1999  Sprinter 212  \n",
       "2            yes  2003         S 500  \n",
       "3            yes  2007            Q7  \n",
       "4            yes  2011         Rav 4  \n",
       "..           ...   ...           ...  \n",
       "495          yes  2007        Lancer  \n",
       "496          yes  2012        Kangoo  \n",
       "497          yes  2012       E-Class  \n",
       "498          yes  2012  Sprinter 313  \n",
       "499          yes  2000         Caddy  \n",
       "\n",
       "[500 rows x 9 columns]"
      ]
     },
     "execution_count": 32,
     "metadata": {},
     "output_type": "execute_result"
    }
   ],
   "source": [
    "df"
   ]
  },
  {
   "cell_type": "code",
   "execution_count": null,
   "id": "34df5bbd",
   "metadata": {},
   "outputs": [],
   "source": []
  },
  {
   "cell_type": "markdown",
   "id": "846b5731",
   "metadata": {},
   "source": [
    "## Machine Learning Model"
   ]
  },
  {
   "cell_type": "markdown",
   "id": "7ef39a23",
   "metadata": {},
   "source": [
    "### Create a linear regression model to predict the price of the car on basis of Brand, Mileage, EngineV, and Year."
   ]
  },
  {
   "cell_type": "code",
   "execution_count": 33,
   "id": "6bf3f2c1",
   "metadata": {},
   "outputs": [],
   "source": [
    "from sklearn.linear_model import LinearRegression\n",
    "from sklearn.model_selection import train_test_split"
   ]
  },
  {
   "cell_type": "markdown",
   "id": "1854ccfa",
   "metadata": {},
   "source": [
    "#### Split the data into training and test sets using train_test_split() function from scikit-learn."
   ]
  },
  {
   "cell_type": "code",
   "execution_count": 34,
   "id": "2ca5a882",
   "metadata": {},
   "outputs": [],
   "source": [
    "X = brand_mean[['Brand', 'Mileage', 'EngineV', 'Year']]\n",
    "y = brand_mean['Price']\n",
    "X_train, X_test, y_train, y_test = train_test_split(X, y, test_size=0.2, random_state=42)"
   ]
  },
  {
   "cell_type": "markdown",
   "id": "f73eeba2",
   "metadata": {},
   "source": [
    "#### Handling the categorical data in the 'Brand' column, we convert it to numerical data using one-hot encoding with the pd.get_dummies() function."
   ]
  },
  {
   "cell_type": "code",
   "execution_count": 35,
   "id": "1e96e79e",
   "metadata": {},
   "outputs": [],
   "source": [
    "X_train = pd.get_dummies(X_train, drop_first=True)\n",
    "X_test = pd.get_dummies(X_test, drop_first=True)"
   ]
  },
  {
   "cell_type": "code",
   "execution_count": 36,
   "id": "54ff4ade",
   "metadata": {},
   "outputs": [
    {
     "data": {
      "text/html": [
       "<div>\n",
       "<style scoped>\n",
       "    .dataframe tbody tr th:only-of-type {\n",
       "        vertical-align: middle;\n",
       "    }\n",
       "\n",
       "    .dataframe tbody tr th {\n",
       "        vertical-align: top;\n",
       "    }\n",
       "\n",
       "    .dataframe thead th {\n",
       "        text-align: right;\n",
       "    }\n",
       "</style>\n",
       "<table border=\"1\" class=\"dataframe\">\n",
       "  <thead>\n",
       "    <tr style=\"text-align: right;\">\n",
       "      <th></th>\n",
       "      <th>Mileage</th>\n",
       "      <th>EngineV</th>\n",
       "      <th>Year</th>\n",
       "      <th>Brand_Mitsubishi</th>\n",
       "      <th>Brand_Renault</th>\n",
       "      <th>Brand_Toyota</th>\n",
       "      <th>Brand_Volkswagen</th>\n",
       "    </tr>\n",
       "  </thead>\n",
       "  <tbody>\n",
       "    <tr>\n",
       "      <th>5</th>\n",
       "      <td>117.017857</td>\n",
       "      <td>2.769643</td>\n",
       "      <td>2007.857143</td>\n",
       "      <td>0</td>\n",
       "      <td>0</td>\n",
       "      <td>1</td>\n",
       "      <td>0</td>\n",
       "    </tr>\n",
       "    <tr>\n",
       "      <th>2</th>\n",
       "      <td>172.278846</td>\n",
       "      <td>3.855865</td>\n",
       "      <td>2006.682692</td>\n",
       "      <td>0</td>\n",
       "      <td>0</td>\n",
       "      <td>0</td>\n",
       "      <td>0</td>\n",
       "    </tr>\n",
       "    <tr>\n",
       "      <th>4</th>\n",
       "      <td>152.421875</td>\n",
       "      <td>1.665469</td>\n",
       "      <td>2008.937500</td>\n",
       "      <td>0</td>\n",
       "      <td>1</td>\n",
       "      <td>0</td>\n",
       "      <td>0</td>\n",
       "    </tr>\n",
       "    <tr>\n",
       "      <th>3</th>\n",
       "      <td>148.833333</td>\n",
       "      <td>2.261111</td>\n",
       "      <td>2005.527778</td>\n",
       "      <td>1</td>\n",
       "      <td>0</td>\n",
       "      <td>0</td>\n",
       "      <td>0</td>\n",
       "    </tr>\n",
       "    <tr>\n",
       "      <th>6</th>\n",
       "      <td>160.490741</td>\n",
       "      <td>2.031481</td>\n",
       "      <td>2007.296296</td>\n",
       "      <td>0</td>\n",
       "      <td>0</td>\n",
       "      <td>0</td>\n",
       "      <td>1</td>\n",
       "    </tr>\n",
       "  </tbody>\n",
       "</table>\n",
       "</div>"
      ],
      "text/plain": [
       "      Mileage   EngineV         Year  Brand_Mitsubishi  Brand_Renault  \\\n",
       "5  117.017857  2.769643  2007.857143                 0              0   \n",
       "2  172.278846  3.855865  2006.682692                 0              0   \n",
       "4  152.421875  1.665469  2008.937500                 0              1   \n",
       "3  148.833333  2.261111  2005.527778                 1              0   \n",
       "6  160.490741  2.031481  2007.296296                 0              0   \n",
       "\n",
       "   Brand_Toyota  Brand_Volkswagen  \n",
       "5             1                 0  \n",
       "2             0                 0  \n",
       "4             0                 0  \n",
       "3             0                 0  \n",
       "6             0                 1  "
      ]
     },
     "execution_count": 36,
     "metadata": {},
     "output_type": "execute_result"
    }
   ],
   "source": [
    "X_train"
   ]
  },
  {
   "cell_type": "code",
   "execution_count": 37,
   "id": "a75f7dc3",
   "metadata": {},
   "outputs": [
    {
     "data": {
      "text/html": [
       "<style>#sk-container-id-1 {color: black;background-color: white;}#sk-container-id-1 pre{padding: 0;}#sk-container-id-1 div.sk-toggleable {background-color: white;}#sk-container-id-1 label.sk-toggleable__label {cursor: pointer;display: block;width: 100%;margin-bottom: 0;padding: 0.3em;box-sizing: border-box;text-align: center;}#sk-container-id-1 label.sk-toggleable__label-arrow:before {content: \"▸\";float: left;margin-right: 0.25em;color: #696969;}#sk-container-id-1 label.sk-toggleable__label-arrow:hover:before {color: black;}#sk-container-id-1 div.sk-estimator:hover label.sk-toggleable__label-arrow:before {color: black;}#sk-container-id-1 div.sk-toggleable__content {max-height: 0;max-width: 0;overflow: hidden;text-align: left;background-color: #f0f8ff;}#sk-container-id-1 div.sk-toggleable__content pre {margin: 0.2em;color: black;border-radius: 0.25em;background-color: #f0f8ff;}#sk-container-id-1 input.sk-toggleable__control:checked~div.sk-toggleable__content {max-height: 200px;max-width: 100%;overflow: auto;}#sk-container-id-1 input.sk-toggleable__control:checked~label.sk-toggleable__label-arrow:before {content: \"▾\";}#sk-container-id-1 div.sk-estimator input.sk-toggleable__control:checked~label.sk-toggleable__label {background-color: #d4ebff;}#sk-container-id-1 div.sk-label input.sk-toggleable__control:checked~label.sk-toggleable__label {background-color: #d4ebff;}#sk-container-id-1 input.sk-hidden--visually {border: 0;clip: rect(1px 1px 1px 1px);clip: rect(1px, 1px, 1px, 1px);height: 1px;margin: -1px;overflow: hidden;padding: 0;position: absolute;width: 1px;}#sk-container-id-1 div.sk-estimator {font-family: monospace;background-color: #f0f8ff;border: 1px dotted black;border-radius: 0.25em;box-sizing: border-box;margin-bottom: 0.5em;}#sk-container-id-1 div.sk-estimator:hover {background-color: #d4ebff;}#sk-container-id-1 div.sk-parallel-item::after {content: \"\";width: 100%;border-bottom: 1px solid gray;flex-grow: 1;}#sk-container-id-1 div.sk-label:hover label.sk-toggleable__label {background-color: #d4ebff;}#sk-container-id-1 div.sk-serial::before {content: \"\";position: absolute;border-left: 1px solid gray;box-sizing: border-box;top: 0;bottom: 0;left: 50%;z-index: 0;}#sk-container-id-1 div.sk-serial {display: flex;flex-direction: column;align-items: center;background-color: white;padding-right: 0.2em;padding-left: 0.2em;position: relative;}#sk-container-id-1 div.sk-item {position: relative;z-index: 1;}#sk-container-id-1 div.sk-parallel {display: flex;align-items: stretch;justify-content: center;background-color: white;position: relative;}#sk-container-id-1 div.sk-item::before, #sk-container-id-1 div.sk-parallel-item::before {content: \"\";position: absolute;border-left: 1px solid gray;box-sizing: border-box;top: 0;bottom: 0;left: 50%;z-index: -1;}#sk-container-id-1 div.sk-parallel-item {display: flex;flex-direction: column;z-index: 1;position: relative;background-color: white;}#sk-container-id-1 div.sk-parallel-item:first-child::after {align-self: flex-end;width: 50%;}#sk-container-id-1 div.sk-parallel-item:last-child::after {align-self: flex-start;width: 50%;}#sk-container-id-1 div.sk-parallel-item:only-child::after {width: 0;}#sk-container-id-1 div.sk-dashed-wrapped {border: 1px dashed gray;margin: 0 0.4em 0.5em 0.4em;box-sizing: border-box;padding-bottom: 0.4em;background-color: white;}#sk-container-id-1 div.sk-label label {font-family: monospace;font-weight: bold;display: inline-block;line-height: 1.2em;}#sk-container-id-1 div.sk-label-container {text-align: center;}#sk-container-id-1 div.sk-container {/* jupyter's `normalize.less` sets `[hidden] { display: none; }` but bootstrap.min.css set `[hidden] { display: none !important; }` so we also need the `!important` here to be able to override the default hidden behavior on the sphinx rendered scikit-learn.org. See: https://github.com/scikit-learn/scikit-learn/issues/21755 */display: inline-block !important;position: relative;}#sk-container-id-1 div.sk-text-repr-fallback {display: none;}</style><div id=\"sk-container-id-1\" class=\"sk-top-container\"><div class=\"sk-text-repr-fallback\"><pre>LinearRegression()</pre><b>In a Jupyter environment, please rerun this cell to show the HTML representation or trust the notebook. <br />On GitHub, the HTML representation is unable to render, please try loading this page with nbviewer.org.</b></div><div class=\"sk-container\" hidden><div class=\"sk-item\"><div class=\"sk-estimator sk-toggleable\"><input class=\"sk-toggleable__control sk-hidden--visually\" id=\"sk-estimator-id-1\" type=\"checkbox\" checked><label for=\"sk-estimator-id-1\" class=\"sk-toggleable__label sk-toggleable__label-arrow\">LinearRegression</label><div class=\"sk-toggleable__content\"><pre>LinearRegression()</pre></div></div></div></div></div>"
      ],
      "text/plain": [
       "LinearRegression()"
      ]
     },
     "execution_count": 37,
     "metadata": {},
     "output_type": "execute_result"
    }
   ],
   "source": [
    "model = LinearRegression()\n",
    "model.fit(X_train, y_train)"
   ]
  },
  {
   "cell_type": "markdown",
   "id": "a73e0cdd",
   "metadata": {},
   "source": [
    "#### Model performance metrics : Coeffficient of the linear regression model"
   ]
  },
  {
   "cell_type": "code",
   "execution_count": 38,
   "id": "c5195092",
   "metadata": {},
   "outputs": [
    {
     "data": {
      "text/plain": [
       "array([  -70.96026241,  7711.25475032,    32.56676477, -5480.09041954,\n",
       "       -2249.51759196,  2786.56915952,  1591.92611857])"
      ]
     },
     "execution_count": 38,
     "metadata": {},
     "output_type": "execute_result"
    }
   ],
   "source": [
    "model.coef_"
   ]
  },
  {
   "cell_type": "markdown",
   "id": "30cded75",
   "metadata": {},
   "source": [
    "### Predicting the estimated price"
   ]
  },
  {
   "cell_type": "code",
   "execution_count": 39,
   "id": "7f533fb3",
   "metadata": {},
   "outputs": [
    {
     "name": "stderr",
     "output_type": "stream",
     "text": [
      "C:\\Users\\psk_k\\anaconda3\\envs\\py3-TF2.0\\lib\\site-packages\\sklearn\\base.py:409: UserWarning: X does not have valid feature names, but LinearRegression was fitted with feature names\n",
      "  warnings.warn(\n"
     ]
    },
    {
     "data": {
      "text/plain": [
       "array([2513692.13787533])"
      ]
     },
     "execution_count": 39,
     "metadata": {},
     "output_type": "execute_result"
    }
   ],
   "source": [
    "model.predict([[1,0,0,0, 277, 4, 1999]])"
   ]
  },
  {
   "cell_type": "markdown",
   "id": "e7c3b09d",
   "metadata": {},
   "source": [
    "## Conclusion\n",
    "Based on the dataset and visualization, we can draw several conclusions about the average characteristics of different car brands:\n",
    "\n",
    "1.The most expensive cars, on average, are made by Mercedes-Benz, with an average price of over 26,000 dollars, followed by BMW with an average price of just over 21,000 dollars.\n",
    "\n",
    "2.The least expensive cars, on average, are made by Renault, with an average price of just over 8,600 dollars.\n",
    "\n",
    "3.The cars with the highest average engine volume are made by Mercedes-Benz, with an average engine volume of almost 4 liters.\n",
    "\n",
    "4.The cars with the lowest average engine volume are made by Renault, with an average engine volume of just over 1.6 liters.\n",
    "\n",
    "5.The average mileage of the cars does not show significant differences between brands, with the highest average mileage of approximately 193 miles per gallon for BMW and the lowest average mileage of approximately 117 miles per gallon for Toyota.\n",
    "\n"
   ]
  }
 ],
 "metadata": {
  "kernelspec": {
   "display_name": "Python [conda env:py3-TF2.0]",
   "language": "python",
   "name": "conda-env-py3-TF2.0-py"
  },
  "language_info": {
   "codemirror_mode": {
    "name": "ipython",
    "version": 3
   },
   "file_extension": ".py",
   "mimetype": "text/x-python",
   "name": "python",
   "nbconvert_exporter": "python",
   "pygments_lexer": "ipython3",
   "version": "3.9.15"
  }
 },
 "nbformat": 4,
 "nbformat_minor": 5
}
